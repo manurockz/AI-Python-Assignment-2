{
 "cells": [
  {
   "cell_type": "markdown",
   "metadata": {},
   "source": [
    "## Question 1\n",
    "\n",
    "## Area of Triangle:\n",
    "Given  the  lengths  of  three  sides  of  a  triangle,  calculate  the  area  of the triangle. "
   ]
  },
  {
   "cell_type": "code",
   "execution_count": 3,
   "metadata": {},
   "outputs": [
    {
     "name": "stdout",
     "output_type": "stream",
     "text": [
      "Enter Three sides of Triangle\n",
      "Enter First Side: 10\n",
      "Enter Second Side: 10\n",
      "Enter Third Side: 10\n",
      "area of triangle with sides : 10.0 , 10.0 , 10.0 is 43.301\n"
     ]
    }
   ],
   "source": [
    "print('Enter Three sides of Triangle')\n",
    "x=float(input('Enter First Side: '))\n",
    "y=float(input('Enter Second Side: '))\n",
    "z=float(input('Enter Third Side: '))\n",
    "perimeter=(x+y+z)/2\n",
    "area=(perimeter*(perimeter-x)*(perimeter-y)*(perimeter-z))**(1/2)\n",
    "print(\"area of triangle with sides :\",x,\",\",y,\",\",z,\"is\",round(area,3))"
   ]
  },
  {
   "cell_type": "markdown",
   "metadata": {},
   "source": [
    "## Question 2\n",
    "Take a string from end user and check if the value is palindrome or not\n"
   ]
  },
  {
   "cell_type": "code",
   "execution_count": 4,
   "metadata": {},
   "outputs": [
    {
     "name": "stdout",
     "output_type": "stream",
     "text": [
      "enter stringhelloolleh\n",
      "palindrome\n"
     ]
    }
   ],
   "source": [
    "string=input(\"enter string\")\n",
    "i=0\n",
    "j=len(string)-1\n",
    "while (i<=j):\n",
    "    if (string[i]==string[j]):\n",
    "        i=i+1\n",
    "        j-=1\n",
    "    else:\n",
    "        print(\"not a valid palindrome\")\n",
    "        j=len(string)\n",
    "        break\n",
    "if (j!=len(string)):\n",
    "    print(\"palindrome\")\n"
   ]
  },
  {
   "cell_type": "markdown",
   "metadata": {},
   "source": [
    "## Question 3\n",
    "Write a program that reads a year from the user and displays a message Indicating whether or not it is a leap year."
   ]
  },
  {
   "cell_type": "code",
   "execution_count": 5,
   "metadata": {},
   "outputs": [
    {
     "name": "stdout",
     "output_type": "stream",
     "text": [
      "enter a year [ex:2019]: 2019\n",
      "2019 is not a leap year\n"
     ]
    }
   ],
   "source": [
    "y=int(input('enter a year [ex:2019]: '))\n",
    "if ((y%4==0 and y%100!=0) or (y%400==0)):\n",
    "    print(y, \"is leap year\")\n",
    "else:\n",
    "    print(y,\"is not a leap year\")"
   ]
  },
  {
   "cell_type": "markdown",
   "metadata": {},
   "source": [
    "## Question 4\n",
    "Take a string as input, and replaces spaces “ “  with hyphens “-”, and returns a string.\n",
    "## Input: \n",
    "“ This program converts spaces into hyphen”    \n",
    "## Output:\n",
    "“ This-program-converts-spaces-into-hyphen”"
   ]
  },
  {
   "cell_type": "code",
   "execution_count": 6,
   "metadata": {},
   "outputs": [
    {
     "name": "stdout",
     "output_type": "stream",
     "text": [
      "enter a string with spaces: welcome to ai python batch\n",
      "\n",
      " After adding hyphens, string is: \n"
     ]
    },
    {
     "data": {
      "text/plain": [
       "'welcome-to-ai-python-batch'"
      ]
     },
     "execution_count": 6,
     "metadata": {},
     "output_type": "execute_result"
    }
   ],
   "source": [
    "def spaceToHyphen(s,lsi):\n",
    "    x=\"-\"\n",
    "    x=x.join(lsi)\n",
    "    return x\n",
    "\n",
    "x=input('enter a string with spaces: ')\n",
    "y=x.split()\n",
    "z=spaceToHyphen(x,y)\n",
    "print(\"\\n After adding hyphens, string is: \")\n",
    "z"
   ]
  },
  {
   "cell_type": "markdown",
   "metadata": {},
   "source": [
    "## Question 5\n",
    "Take  a  string  as  input  that  accepts  a  comma  separated  sequence  of  words as input and prints the unique words in sorted form (alphanumerically).\n",
    "## Input:\n",
    "orange, white, red, cyan, green, magenta, cyan, pink, white\n",
    "## Output\n",
    ": cyan, green, magenta, orange, pink, red, white"
   ]
  },
  {
   "cell_type": "code",
   "execution_count": 7,
   "metadata": {},
   "outputs": [
    {
     "name": "stdout",
     "output_type": "stream",
     "text": [
      "orange, white, red, cyan, green, magenta, cyan, pink, white\n",
      "{' white', ' cyan', 'orange', ' green', ' pink', ' magenta', ' red'}\n",
      "[' white', ' cyan', 'orange', ' green', ' pink', ' magenta', ' red']\n",
      "<class 'list'>\n",
      "[' cyan', ' green', ' magenta', ' pink', ' red', ' white', 'orange']\n"
     ]
    }
   ],
   "source": [
    "s=set()\n",
    "si=input().split(\",\")\n",
    "for i in si:\n",
    "    s.add(i)\n",
    "lis=list(s)\n",
    "print(s)\n",
    "print(lis)\n",
    "print(type(lis))\n",
    "lis.sort()\n",
    "print(lis)\n"
   ]
  },
  {
   "cell_type": "markdown",
   "metadata": {},
   "source": [
    "## Question 6\n",
    "Ask the user for their monthly salary. Calculate whether they have to pay tax and if so, how much is that amount .Print the result\n",
    "<img src=\"tax.png\">"
   ]
  },
  {
   "cell_type": "code",
   "execution_count": 8,
   "metadata": {},
   "outputs": [
    {
     "name": "stdout",
     "output_type": "stream",
     "text": [
      "enter your income: 50000\n",
      "tax amount=  0.0\n",
      "salary= 50000\n",
      "total amount: salary + tax =  50000.0\n"
     ]
    }
   ],
   "source": [
    "salary=int(input('enter your income: '))\n",
    "if (salary<=250000):\n",
    "    tax=0\n",
    "elif (salary<=500000):\n",
    "    tax=5\n",
    "elif (salary<=750000):\n",
    "    tax=10\n",
    "elif (salary<=1000000):\n",
    "    tax=15\n",
    "elif (salary<=1250000):\n",
    "    tax=20\n",
    "elif (salary>1500000):\n",
    "    tax=30\n",
    "    \n",
    "amt=salary+(salary*(tax/100))\n",
    "tax_amt=(salary)*(tax/100)\n",
    "print(\"tax amount= \",tax_amt)\n",
    "print(\"salary=\",salary)\n",
    "print(\"total amount: salary + tax = \",amt)"
   ]
  },
  {
   "cell_type": "markdown",
   "metadata": {},
   "source": [
    "## Question 7\n",
    "Take a list of integers as an argument, and converts it into a single integer (return the integer).\n",
    "## *Input*: [11, 33,50]\n",
    "## *Output*: 113350"
   ]
  },
  {
   "cell_type": "code",
   "execution_count": 9,
   "metadata": {},
   "outputs": [
    {
     "name": "stdout",
     "output_type": "stream",
     "text": [
      "enter list elements separated by comma : 11,34,5,5\n"
     ]
    },
    {
     "data": {
      "text/plain": [
       "113455"
      ]
     },
     "execution_count": 9,
     "metadata": {},
     "output_type": "execute_result"
    }
   ],
   "source": [
    "list1=input('enter list elements separated by comma : ').split(\",\")\n",
    "string=\"\"\n",
    "string=string.join(list1)\n",
    "number=int(string)\n",
    "number"
   ]
  },
  {
   "cell_type": "markdown",
   "metadata": {},
   "source": [
    "## Question 8\n",
    "## Units Of Time\n",
    "Create a program that reads duration from the user as a number of days, hours, minutes, and seconds. Compute and display the total number of seconds represented by this duration. "
   ]
  },
  {
   "cell_type": "code",
   "execution_count": 11,
   "metadata": {},
   "outputs": [
    {
     "name": "stdout",
     "output_type": "stream",
     "text": [
      "enter duration in hrs, minutes , seconds format separated by colon: 5:34:20\n",
      "total number of seconds represented by duration is : 20060\n"
     ]
    }
   ],
   "source": [
    "x,y,z=input(\"enter duration in hrs, minutes , seconds format separated by colon: \").split(\":\")\n",
    "x=int(x)\n",
    "y=int(y)\n",
    "z=int(z)\n",
    "y=y*60\n",
    "x=x*3600\n",
    "secs=x+y+z\n",
    "print(\"total number of seconds represented by duration is :\",secs)"
   ]
  },
  {
   "cell_type": "markdown",
   "metadata": {},
   "source": [
    "## Question 9\n",
    "Given three integers (given through user input), sort the numbers using |min| and  |max| functions."
   ]
  },
  {
   "cell_type": "code",
   "execution_count": 12,
   "metadata": {},
   "outputs": [
    {
     "name": "stdout",
     "output_type": "stream",
     "text": [
      "enter 3 integers: 1 2 3\n",
      "sorted elements using max function: ['3', '2', '1']\n",
      "sorted elements using min function: ['1', '2', '3']\n"
     ]
    }
   ],
   "source": [
    "x=input('enter 3 integers: ').split()\n",
    "f=x.copy()\n",
    "z=[]\n",
    "for i in range(0,3):\n",
    "    y=max(x)\n",
    "    z.append(y)\n",
    "    c=x.index(y)\n",
    "    del x[c]\n",
    "print('sorted elements using max function:',z)\n",
    "z=[]\n",
    "for i in range(0,3):\n",
    "    y=min(f)\n",
    "    z.append(y)\n",
    "    c=f.index(y)\n",
    "    del f[c]\n",
    "print('sorted elements using min function:',z)\n",
    "\n",
    "      "
   ]
  },
  {
   "cell_type": "markdown",
   "metadata": {},
   "source": [
    "## Question 10\n",
    "Write a program that reads a date from the user and computes its immediate successor. The date is the format YYYY-MM-DD. So, 2020-04-15 will have the successor 2020-04-16."
   ]
  },
  {
   "cell_type": "code",
   "execution_count": 13,
   "metadata": {},
   "outputs": [
    {
     "name": "stdout",
     "output_type": "stream",
     "text": [
      "enter data in YYYY-MM-DD form: 2020-02-28\n"
     ]
    },
    {
     "data": {
      "text/plain": [
       "'2020-02-29'"
      ]
     },
     "execution_count": 13,
     "metadata": {},
     "output_type": "execute_result"
    }
   ],
   "source": [
    "x=input('enter data in YYYY-MM-DD form: ').split(\"-\")\n",
    "if (x[1]=='02' and (x[2]=='28' or x[2]=='29')):\n",
    "    if (x[2]=='28'):\n",
    "        if ((int(x[0])%4==0 and int(x[0])%100!=0) or (int(x[0])%400==0)):\n",
    "            x[2]='29'\n",
    "        else:\n",
    "            x[2]='01'\n",
    "            x[1]='03'\n",
    "    else:\n",
    "        x[2]='01'\n",
    "        x[1]='03'\n",
    "elif ((x[1]=='04' or x[1]=='06' or x[1]=='09' or x[1]=='11') and (x[2]=='30')) :\n",
    "    x[2]='01'\n",
    "    d=int(x[1])\n",
    "    d=d+1\n",
    "    if (d<10):\n",
    "        x[1]=\"0\"+str(d)\n",
    "    else:\n",
    "        x[1]=str(d)\n",
    "elif ((x[1]=='01' or x[1]=='03' or x[1]=='05' or x[1]=='07' or x[1]=='08' or x[1]=='10' or x[1]=='12') and (x[2]=='31')):\n",
    "    x[2]='01'\n",
    "    d=int(x[1])\n",
    "    d=d+1\n",
    "    if (d<10 and d!=13):\n",
    "        x[1]=\"0\"+str(d)\n",
    "    elif (d<13):\n",
    "        x[1]=str(d)\n",
    "    elif (d==13):\n",
    "        f=int(x[0])\n",
    "        f+=1\n",
    "        x[0]=str(f)\n",
    "        x[1]='01'\n",
    "else:\n",
    "    d=int(x[2])+1\n",
    "    x[2]=str(d)\n",
    "y=\"-\"\n",
    "y=y.join(x)\n",
    "y"
   ]
  },
  {
   "cell_type": "markdown",
   "metadata": {},
   "source": [
    "## Question 11\n",
    "Compute product of a list of numbers [45 ,3,2,89,72,1,10,7]\n",
    "## Output: 121111200\n"
   ]
  },
  {
   "cell_type": "code",
   "execution_count": 14,
   "metadata": {},
   "outputs": [
    {
     "name": "stdout",
     "output_type": "stream",
     "text": [
      "enter integers separated by commma: 45,3,2,89,72,1,10,7\n",
      "product of integers in list is : 121111200\n"
     ]
    }
   ],
   "source": [
    "def product(y,x):\n",
    "    for i in x:\n",
    "        y=y*int(i)\n",
    "    return y\n",
    "x=input('enter integers separated by commma: ').split(\",\")\n",
    "y=1\n",
    "z=product(y,x)\n",
    "print(\"product of integers in list is :\", z)"
   ]
  },
  {
   "cell_type": "markdown",
   "metadata": {},
   "source": [
    "## Question 12\n",
    "Compute given Num_list =  [5, 6,8 ,34,89,1] to get desired output\n",
    "## Output: Out_list=[11,14,42,123,90]\n"
   ]
  },
  {
   "cell_type": "code",
   "execution_count": 26,
   "metadata": {},
   "outputs": [
    {
     "name": "stdout",
     "output_type": "stream",
     "text": [
      "enter list elements: 5,6,8,34,89,1\n",
      "[11, 14, 42, 123, 90]\n"
     ]
    }
   ],
   "source": [
    "x=input(\"enter list elements: \").split(\",\")\n",
    "y=[]\n",
    "y=[int(x[i])+int(x[i+1]) for i in range(0,len(x)-1)]\n",
    "print(y)"
   ]
  },
  {
   "cell_type": "markdown",
   "metadata": {},
   "source": [
    "## Question 13\n",
    "Compute given Num_tuple =  (5, 6,8 ,3,9,1) to get desired output\n",
    "## Output: Out_list = [5, 30, 240, 720, 6480, 6480]\n"
   ]
  },
  {
   "cell_type": "code",
   "execution_count": 27,
   "metadata": {},
   "outputs": [
    {
     "data": {
      "text/plain": [
       "[5, 30, 240, 720, 6480, 6480]"
      ]
     },
     "execution_count": 27,
     "metadata": {},
     "output_type": "execute_result"
    }
   ],
   "source": [
    "tup=(5,6,8,3,9,1)\n",
    "lis=list()\n",
    "lis.append(tup[0])\n",
    "for i in range(1,len(tup)):\n",
    "    lis.append(tup[i]*lis[i-1])\n",
    "lis"
   ]
  },
  {
   "cell_type": "markdown",
   "metadata": {},
   "source": [
    "## Question 14\n",
    "Write a Python code that takes a number and returns a list of its digits. So for 586392 it should return [5,8,6,3,9,2]"
   ]
  },
  {
   "cell_type": "code",
   "execution_count": 28,
   "metadata": {},
   "outputs": [
    {
     "name": "stdout",
     "output_type": "stream",
     "text": [
      "enter a number: 57487584\n",
      "Method 1:\n",
      "[5, 7, 4, 8, 7, 5, 8, 4]\n",
      "Method 2:\n",
      "[5, 7, 4, 8, 7, 5, 8, 4]\n"
     ]
    }
   ],
   "source": [
    "import math as m\n",
    "num=input(\"enter a number: \")\n",
    "num2=int(num)\n",
    "b=num2\n",
    "print(\"Method 1:\")\n",
    "x=[]\n",
    "while (b!=0):\n",
    "    r=b%10\n",
    "    x.append(r)\n",
    "    b=m.floor(b/10)\n",
    "x.reverse()\n",
    "print(x)\n",
    "\n",
    "'''or'''\n",
    "print(\"Method 2:\")\n",
    "lis=[]\n",
    "for i in num:\n",
    "    lis.append(int(i))\n",
    "print(lis)\n",
    "\n",
    "    "
   ]
  },
  {
   "cell_type": "markdown",
   "metadata": {},
   "source": [
    "## Question 15\n",
    "Write a program that finds the longest palindromic substring of a given string"
   ]
  },
  {
   "cell_type": "code",
   "execution_count": 29,
   "metadata": {},
   "outputs": [
    {
     "name": "stdout",
     "output_type": "stream",
     "text": [
      "Enter a string : hello\n",
      "ll\n"
     ]
    }
   ],
   "source": [
    "str=input(\"Enter a string : \")\n",
    "maxi=0\n",
    "m=\"\"\n",
    "if str[::1]==str[::-1]:\n",
    "    print(str)\n",
    "else:\n",
    "    for i in range(len(str)):\n",
    "        for j in range(i+1,len(str)):\n",
    "            if str[i:j+1:1]==str[j:i-1:-1]:\n",
    "                if maxi<len(str[i:j+1:1]):\n",
    "                    m=str[i:j+1:1]\n",
    "                    maxi=len(str[i:j+1:1])\n",
    "    if (maxi==0):\n",
    "        print(str[0])\n",
    "    else:\n",
    "        print(m)"
   ]
  },
  {
   "cell_type": "markdown",
   "metadata": {},
   "source": [
    "## Question 16\n",
    "Given two binary strings, A (of length 10) and B (of length 5), output 1 if B is a substring of A and 0 otherwise.\n",
    "First two lines of input:\n",
    "\n",
    "## 1010110010          10110\n",
    "## 1110111011           10011\n",
    "First two lines of output:\n",
    "# 1\n",
    "# 0\n"
   ]
  },
  {
   "cell_type": "code",
   "execution_count": 30,
   "metadata": {
    "scrolled": false
   },
   "outputs": [
    {
     "name": "stdout",
     "output_type": "stream",
     "text": [
      "enter number of inputs: 2\n",
      "enter first string: 1111000\n",
      "enter second string: 1001\n",
      "0\n",
      "enter first string: 11001\n",
      "enter second string: 1001\n",
      "1\n"
     ]
    }
   ],
   "source": [
    "n=int(input(\"enter number of inputs: \"))\n",
    "for i in range(0,n):\n",
    "    x=input(\"enter first string: \")\n",
    "    y=input(\"enter second string: \")\n",
    "    boole=int(y in x)\n",
    "    print(boole)\n"
   ]
  },
  {
   "cell_type": "code",
   "execution_count": null,
   "metadata": {},
   "outputs": [],
   "source": []
  },
  {
   "cell_type": "markdown",
   "metadata": {},
   "source": [
    "## Question 17\n",
    "## POUR1 - Pouring water\n",
    "Given two vessels, one of which can accommodate a litres of water and the other - b litres of water, determine the number of steps required to obtain exactly c litres of water in one of the vessels.\n",
    "At the beginning both vessels are empty. The following operations are counted as 'steps':\n",
    "# •emptying a vessel,\n",
    "# •filling a vessel,\n",
    "# •pouring water from one vessel to the other, without spilling, until one of the vessels is either full or empty.\n",
    "\n",
    "## Input\n",
    "An integer t, 1<=t<=100, denoting the number of testcases , followed by t sets of input data, each consisting of three positive integers a, b, c, not larger than 40000, given in separate lines.\n",
    "## Output\n",
    "For each set of input data, output the minimum number of steps required to obtain c litres, or -1 if this is impossible.\n",
    "\n",
    "\n"
   ]
  },
  {
   "cell_type": "code",
   "execution_count": 31,
   "metadata": {},
   "outputs": [
    {
     "name": "stdout",
     "output_type": "stream",
     "text": [
      "enter number of testcases:2\n",
      "\n",
      "enter liters for a2\n",
      "enter liters for b3\n",
      "enter liters for c1\n",
      "Minimum number of steps required is 2\n",
      "\n",
      "enter liters for a1\n",
      "enter liters for b1\n",
      "enter liters for c1\n",
      "Minimum number of steps required is 1\n"
     ]
    }
   ],
   "source": [
    "def gcd(a, b): \n",
    "    if b==0: \n",
    "        return a \n",
    "    return gcd(b, a%b) \n",
    "\n",
    "def Pour(toJugCap, fromJugCap, c): \n",
    "    fromJug = fromJugCap \n",
    "    toJug  = 0\n",
    "    count = 1\n",
    "    while ((fromJug  is not c) and (toJug is not c)): \n",
    "        temp = min(fromJug, toJugCap-toJug) \n",
    "        toJug = toJug + temp \n",
    "        fromJug = fromJug - temp \n",
    "  \n",
    "        count =  count + 1\n",
    "        if ((fromJug == c) or (toJug == c)): \n",
    "            break\n",
    "  \n",
    "        if fromJug == 0: \n",
    "            fromJug = fromJugCap \n",
    "            count =  count + 1\n",
    "  \n",
    "        if toJug == toJugCap: \n",
    "            toJug = 0\n",
    "            count =  count + 1\n",
    "              \n",
    "    return count\n",
    "  \n",
    "\n",
    "def minSteps(a, b, c): \n",
    "    if a> b: \n",
    "        temp = a \n",
    "        a = b \n",
    "        b = temp \n",
    "          \n",
    "    if (c%(gcd(a,b)) is not 0): \n",
    "        return -1\n",
    "    return(min(Pour(a,b,c), Pour(b,a,c)))\n",
    "\n",
    "t=int(input('enter number of testcases:'))\n",
    "while (t>0):\n",
    "    a=int(input('\\nenter liters for a'))  \n",
    "    b=int(input('enter liters for b'))  \n",
    "    c=int(input('enter liters for c'))  \n",
    "    print('Minimum number of steps required is', minSteps(a, b, c)) \n",
    "    t-=1"
   ]
  }
 ],
 "metadata": {
  "kernelspec": {
   "display_name": "Python 3",
   "language": "python",
   "name": "python3"
  },
  "language_info": {
   "codemirror_mode": {
    "name": "ipython",
    "version": 3
   },
   "file_extension": ".py",
   "mimetype": "text/x-python",
   "name": "python",
   "nbconvert_exporter": "python",
   "pygments_lexer": "ipython3",
   "version": "3.7.7"
  }
 },
 "nbformat": 4,
 "nbformat_minor": 4
}
